{
 "cells": [
  {
   "cell_type": "markdown",
   "id": "cbb6fdd9-3126-4948-81c5-02be960488fc",
   "metadata": {},
   "source": [
    "# Phần 2: Toán tử \n"
   ]
  },
  {
   "cell_type": "code",
   "execution_count": 1,
   "id": "a40ecf46-12c8-43e0-a7cc-569587d0d542",
   "metadata": {},
   "outputs": [
    {
     "name": "stdout",
     "output_type": "stream",
     "text": [
      "11\n"
     ]
    }
   ],
   "source": [
    "x = 10 \n",
    "x = x+1\n",
    "print(x)"
   ]
  },
  {
   "cell_type": "code",
   "execution_count": 2,
   "id": "cdc551c9-3c2f-45a0-bbb4-9ebc90879775",
   "metadata": {},
   "outputs": [],
   "source": [
    "# tạo một list dict có thể chứa float, int, double, string, biến, \n",
    "\n",
    "ds = [1, 2, 'xin chao', 9.1, x]"
   ]
  },
  {
   "cell_type": "code",
   "execution_count": 3,
   "id": "2435e7c9-fe00-4987-b23b-c1df48a33e14",
   "metadata": {},
   "outputs": [
    {
     "data": {
      "text/plain": [
       "True"
      ]
     },
     "execution_count": 3,
     "metadata": {},
     "output_type": "execute_result"
    }
   ],
   "source": [
    "x in ds"
   ]
  },
  {
   "cell_type": "code",
   "execution_count": 13,
   "id": "a26e4502-4228-40c3-b722-904fa213241e",
   "metadata": {},
   "outputs": [],
   "source": [
    "cv = {\n",
    "    \"ma_sv\": 123,\n",
    "    \"ho_ten\": \"foo bar\",\n",
    "    \"diem_ck\": 5.5,\n",
    "}"
   ]
  },
  {
   "cell_type": "code",
   "execution_count": 18,
   "id": "2a990ddc-a25e-47f6-bdca-0bd39c67ea3d",
   "metadata": {},
   "outputs": [
    {
     "name": "stdout",
     "output_type": "stream",
     "text": [
      "123\n"
     ]
    }
   ],
   "source": [
    "print(cv[\"ma_sv\"])"
   ]
  },
  {
   "cell_type": "code",
   "execution_count": null,
   "id": "148807bc-f210-487d-8f91-4b895be9dc76",
   "metadata": {},
   "outputs": [],
   "source": [
    "cv.has[\"mav_sv\"]"
   ]
  },
  {
   "cell_type": "code",
   "execution_count": 31,
   "id": "0882feff-2dc1-42ca-89aa-3ca40a859853",
   "metadata": {},
   "outputs": [
    {
     "ename": "TypeError",
     "evalue": "'>' not supported between instances of 'str' and 'int'",
     "output_type": "error",
     "traceback": [
      "\u001b[31m---------------------------------------------------------------------------\u001b[39m",
      "\u001b[31mTypeError\u001b[39m                                 Traceback (most recent call last)",
      "\u001b[36mCell\u001b[39m\u001b[36m \u001b[39m\u001b[32mIn[31]\u001b[39m\u001b[32m, line 1\u001b[39m\n\u001b[32m----> \u001b[39m\u001b[32m1\u001b[39m \u001b[33;43m'\u001b[39;49m\u001b[33;43mpython\u001b[39;49m\u001b[33;43m'\u001b[39;49m\u001b[43m \u001b[49m\u001b[43m>\u001b[49m\u001b[43m \u001b[49m\u001b[32;43m3\u001b[39;49m \n",
      "\u001b[31mTypeError\u001b[39m: '>' not supported between instances of 'str' and 'int'"
     ]
    }
   ],
   "source": [
    "'python' > 3 "
   ]
  },
  {
   "cell_type": "code",
   "execution_count": 33,
   "id": "0742d799-4420-4d39-a7d0-fec6078d8976",
   "metadata": {},
   "outputs": [],
   "source": [
    "operators = ['+', '-', '*', '/', '%', '//', '**', '==', '!=', '>', '>=', '<', '<=']"
   ]
  },
  {
   "cell_type": "code",
   "execution_count": 34,
   "id": "3608b5cd-4cf4-429f-a33f-fe4f3c8bf1dd",
   "metadata": {},
   "outputs": [],
   "source": [
    "str = 'xinChao'\n",
    "num = 3"
   ]
  },
  {
   "cell_type": "code",
   "execution_count": null,
   "id": "8fd723a1-5e2c-4f91-9083-e57c058e95f4",
   "metadata": {},
   "outputs": [],
   "source": [
    "Bài tập 1: liệt kê các operator thực hiện được giữa hai trong tất cả các data type trong python \n",
    "Bài tập 2: Làm bài kéo búa bao, best of 7 giữa người với máy, \n",
    "    output: liệt kê ra lịch sử đấu, điểm tổng hợp của từng người và kết quả người chiến thắng"
   ]
  },
  {
   "cell_type": "markdown",
   "id": "25def6b1-3d57-4fec-8d52-83a5d26d6ca9",
   "metadata": {},
   "source": [
    "## Cấu trúc rẽ nhánh"
   ]
  },
  {
   "cell_type": "code",
   "execution_count": 41,
   "id": "87aeba40-3f93-4e5c-89a4-1a105a8526e7",
   "metadata": {},
   "outputs": [
    {
     "name": "stdout",
     "output_type": "stream",
     "text": [
      "passed\n"
     ]
    }
   ],
   "source": [
    "# vi du \n",
    "\n",
    "age = 19\n",
    "suc_khoe = True\n",
    "diem_thi = 80\n",
    "\n",
    "if age == 19 and suc_khoe and diem_thi >= 80:\n",
    "    print('passed')\n",
    "else:\n",
    "    print('failed')"
   ]
  },
  {
   "cell_type": "code",
   "execution_count": 69,
   "id": "786513df-d394-4cfa-ab87-17eb31574209",
   "metadata": {},
   "outputs": [
    {
     "name": "stdout",
     "output_type": "stream",
     "text": [
      "1\n"
     ]
    }
   ],
   "source": [
    "import random \n",
    "choices = {'rock': 1, 'paper': 2, 'scissors': 3}\n",
    "bot = random.choice(list(choices))\n",
    "print(choices[bot])"
   ]
  },
  {
   "cell_type": "code",
   "execution_count": 58,
   "id": "6e7dea18-30eb-4694-b74a-4b2136577477",
   "metadata": {},
   "outputs": [
    {
     "data": {
      "text/plain": [
       "0"
      ]
     },
     "execution_count": 58,
     "metadata": {},
     "output_type": "execute_result"
    }
   ],
   "source": [
    "3%(2-3)"
   ]
  }
 ],
 "metadata": {
  "kernelspec": {
   "display_name": "Python 3 (ipykernel)",
   "language": "python",
   "name": "python3"
  },
  "language_info": {
   "codemirror_mode": {
    "name": "ipython",
    "version": 3
   },
   "file_extension": ".py",
   "mimetype": "text/x-python",
   "name": "python",
   "nbconvert_exporter": "python",
   "pygments_lexer": "ipython3",
   "version": "3.13.7"
  }
 },
 "nbformat": 4,
 "nbformat_minor": 5
}
